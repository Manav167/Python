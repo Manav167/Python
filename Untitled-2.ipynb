{
 "cells": [
  {
   "cell_type": "code",
   "execution_count": 18,
   "id": "45b02718",
   "metadata": {},
   "outputs": [
    {
     "name": "stdout",
     "output_type": "stream",
     "text": [
      "['apple', 'orange', 'banana', 'coconut']\n",
      "coconut\n",
      "['apple', 'orange', 'banana']\n",
      "['apple', 'coconut']\n"
     ]
    }
   ],
   "source": [
    "fruits=[\"apple\",\"orange\",\"banana\",\"coconut\"]\n",
    "print(fruits)\n",
    "print(fruits[3])\n",
    "print(fruits[0:3])\n",
    "print(fruits[::3])"
   ]
  },
  {
   "cell_type": "code",
   "execution_count": 3,
   "id": "1971da4c",
   "metadata": {},
   "outputs": [
    {
     "name": "stdout",
     "output_type": "stream",
     "text": [
      "['__add__', '__class__', '__class_getitem__', '__contains__', '__delattr__', '__delitem__', '__dir__', '__doc__', '__eq__', '__format__', '__ge__', '__getattribute__', '__getitem__', '__getstate__', '__gt__', '__hash__', '__iadd__', '__imul__', '__init__', '__init_subclass__', '__iter__', '__le__', '__len__', '__lt__', '__mul__', '__ne__', '__new__', '__reduce__', '__reduce_ex__', '__repr__', '__reversed__', '__rmul__', '__setattr__', '__setitem__', '__sizeof__', '__str__', '__subclasshook__', 'append', 'clear', 'copy', 'count', 'extend', 'index', 'insert', 'pop', 'remove', 'reverse', 'sort']\n"
     ]
    }
   ],
   "source": [
    "print(dir(fruits))"
   ]
  },
  {
   "cell_type": "code",
   "execution_count": 9,
   "id": "c450d7bd",
   "metadata": {},
   "outputs": [
    {
     "name": "stdout",
     "output_type": "stream",
     "text": [
      "6\n"
     ]
    },
    {
     "data": {
      "text/plain": [
       "False"
      ]
     },
     "execution_count": 9,
     "metadata": {},
     "output_type": "execute_result"
    }
   ],
   "source": [
    "print(len(fruits))\n",
    "fruits[0]=\"pineapple\"\n",
    "\"kiwi\" in fruits"
   ]
  },
  {
   "cell_type": "code",
   "execution_count": null,
   "id": "752e52b1",
   "metadata": {},
   "outputs": [
    {
     "name": "stdout",
     "output_type": "stream",
     "text": [
      "pop\n"
     ]
    }
   ],
   "source": [
    "fruits.append(\"apple\")\n",
    "fruits.remove(\"pineapple\")\n",
    "fruits.pop(1)\n",
    "fruits.insert(1,\"pineapple\")\n",
    "print(\"\")"
   ]
  },
  {
   "cell_type": "code",
   "execution_count": 19,
   "id": "127cdf5f",
   "metadata": {},
   "outputs": [
    {
     "name": "stdout",
     "output_type": "stream",
     "text": [
      "fruits\n"
     ]
    }
   ],
   "source": [
    "fruits=[\"apple\",\"orange\",\"banana\",\"coconut\"]\n",
    "fruits.sort()\n",
    "fruits.reverse()\n",
    "print(\"fruits\")\n"
   ]
  },
  {
   "cell_type": "code",
   "execution_count": 24,
   "id": "010de638",
   "metadata": {},
   "outputs": [
    {
     "name": "stdout",
     "output_type": "stream",
     "text": [
      "3\n",
      "0\n"
     ]
    }
   ],
   "source": [
    "print(fruits.index(\"apple\"))\n",
    "print(fruits.count(\"pineapple\"))"
   ]
  },
  {
   "cell_type": "code",
   "execution_count": null,
   "id": "ffe6c4a3",
   "metadata": {},
   "outputs": [
    {
     "name": "stdout",
     "output_type": "stream",
     "text": [
      "True\n",
      "True\n",
      "False\n",
      "False\n"
     ]
    }
   ],
   "source": [
    "#list1=[1,2,3,[4,5]]\n",
    "print(1 in list1)\n",
    "print([4,5] in list1)\n",
    "print(4 in list1)\n",
    "print(4 in list[3])"
   ]
  },
  {
   "cell_type": "code",
   "execution_count": null,
   "id": "8715b2a9",
   "metadata": {},
   "outputs": [
    {
     "name": "stdout",
     "output_type": "stream",
     "text": [
      "[4, 5, [6, 7, 8], 9]\n",
      "[6, 7, 8]\n",
      "7\n"
     ]
    }
   ],
   "source": [
    "#list inside a list\n",
    "#list=[1,2,3,[4,5,[6,7,8],9]]\n",
    "print(list[3])\n",
    "print(list[3][2])\n",
    "print(list[3][2][1])\n"
   ]
  },
  {
   "cell_type": "code",
   "execution_count": 30,
   "id": "7d158ab6",
   "metadata": {},
   "outputs": [
    {
     "name": "stdout",
     "output_type": "stream",
     "text": [
      "[1, 4, 9, 16, 25]\n"
     ]
    }
   ],
   "source": [
    "squares=[x**2 for x in range(1,6)]\n",
    "print(squares)"
   ]
  },
  {
   "cell_type": "code",
   "execution_count": 31,
   "id": "6b7daa26",
   "metadata": {},
   "outputs": [
    {
     "name": "stdout",
     "output_type": "stream",
     "text": [
      "['APPLE', 'BANANA', 'CHERRY']\n"
     ]
    }
   ],
   "source": [
    "words=['apple','banana','cherry']\n",
    "uppercased=[word.upper() for word in words]\n",
    "print(uppercased)"
   ]
  },
  {
   "cell_type": "code",
   "execution_count": 41,
   "id": "af429b1d",
   "metadata": {},
   "outputs": [],
   "source": [
    "fruits={\"apple\",\"orange\",\"banana\",\"coconut\",\"coconut\",\"apple\"}"
   ]
  },
  {
   "cell_type": "code",
   "execution_count": 38,
   "id": "b5d4d195",
   "metadata": {},
   "outputs": [
    {
     "name": "stdout",
     "output_type": "stream",
     "text": [
      "{'orange', 'apple', 'coconut', 'banana'}\n"
     ]
    }
   ],
   "source": [
    "print(fruits)"
   ]
  },
  {
   "cell_type": "code",
   "execution_count": 35,
   "id": "1ff91d81",
   "metadata": {},
   "outputs": [
    {
     "name": "stdout",
     "output_type": "stream",
     "text": [
      "['__and__', '__class__', '__class_getitem__', '__contains__', '__delattr__', '__dir__', '__doc__', '__eq__', '__format__', '__ge__', '__getattribute__', '__getstate__', '__gt__', '__hash__', '__iand__', '__init__', '__init_subclass__', '__ior__', '__isub__', '__iter__', '__ixor__', '__le__', '__len__', '__lt__', '__ne__', '__new__', '__or__', '__rand__', '__reduce__', '__reduce_ex__', '__repr__', '__ror__', '__rsub__', '__rxor__', '__setattr__', '__sizeof__', '__str__', '__sub__', '__subclasshook__', '__xor__', 'add', 'clear', 'copy', 'difference', 'difference_update', 'discard', 'intersection', 'intersection_update', 'isdisjoint', 'issubset', 'issuperset', 'pop', 'remove', 'symmetric_difference', 'symmetric_difference_update', 'union', 'update']\n"
     ]
    },
    {
     "ename": "TypeError",
     "evalue": "'set' object is not subscriptable",
     "output_type": "error",
     "traceback": [
      "\u001b[31m---------------------------------------------------------------------------\u001b[39m",
      "\u001b[31mTypeError\u001b[39m                                 Traceback (most recent call last)",
      "\u001b[36mCell\u001b[39m\u001b[36m \u001b[39m\u001b[32mIn[35]\u001b[39m\u001b[32m, line 2\u001b[39m\n\u001b[32m      1\u001b[39m \u001b[38;5;28mprint\u001b[39m(\u001b[38;5;28mdir\u001b[39m(fruits))\n\u001b[32m----> \u001b[39m\u001b[32m2\u001b[39m \u001b[38;5;28mprint\u001b[39m(\u001b[43mfruits\u001b[49m\u001b[43m[\u001b[49m\u001b[32;43m0\u001b[39;49m\u001b[43m]\u001b[49m)\n",
      "\u001b[31mTypeError\u001b[39m: 'set' object is not subscriptable"
     ]
    }
   ],
   "source": [
    "print(dir(fruits))\n",
    "print(fruits[0])"
   ]
  },
  {
   "cell_type": "code",
   "execution_count": 42,
   "id": "8cbf94f0",
   "metadata": {},
   "outputs": [
    {
     "name": "stdout",
     "output_type": "stream",
     "text": [
      "{'coconut', 'banana'}\n"
     ]
    }
   ],
   "source": [
    "fruits.remove(\"apple\")\n",
    "fruits.pop()\n",
    "print(fruits)"
   ]
  },
  {
   "cell_type": "code",
   "execution_count": 49,
   "id": "cc263a75",
   "metadata": {},
   "outputs": [],
   "source": [
    "college={\"bus\",\"builidng\",\"guard\"}\n",
    "college.remove(\"bus\")"
   ]
  },
  {
   "cell_type": "code",
   "execution_count": 50,
   "id": "d9c622e4",
   "metadata": {},
   "outputs": [
    {
     "ename": "KeyError",
     "evalue": "'bus'",
     "output_type": "error",
     "traceback": [
      "\u001b[31m---------------------------------------------------------------------------\u001b[39m",
      "\u001b[31mKeyError\u001b[39m                                  Traceback (most recent call last)",
      "\u001b[36mCell\u001b[39m\u001b[36m \u001b[39m\u001b[32mIn[50]\u001b[39m\u001b[32m, line 1\u001b[39m\n\u001b[32m----> \u001b[39m\u001b[32m1\u001b[39m \u001b[43mcollege\u001b[49m\u001b[43m.\u001b[49m\u001b[43mremove\u001b[49m\u001b[43m(\u001b[49m\u001b[33;43m\"\u001b[39;49m\u001b[33;43mbus\u001b[39;49m\u001b[33;43m\"\u001b[39;49m\u001b[43m)\u001b[49m\n",
      "\u001b[31mKeyError\u001b[39m: 'bus'"
     ]
    }
   ],
   "source": [
    "college.remove(\"bus\")"
   ]
  },
  {
   "cell_type": "code",
   "execution_count": 45,
   "id": "80b5dc6b",
   "metadata": {},
   "outputs": [],
   "source": [
    "college.discard(\"bus\")"
   ]
  },
  {
   "cell_type": "code",
   "execution_count": 51,
   "id": "4810e15f",
   "metadata": {},
   "outputs": [
    {
     "ename": "KeyError",
     "evalue": "'building'",
     "output_type": "error",
     "traceback": [
      "\u001b[31m---------------------------------------------------------------------------\u001b[39m",
      "\u001b[31mKeyError\u001b[39m                                  Traceback (most recent call last)",
      "\u001b[36mCell\u001b[39m\u001b[36m \u001b[39m\u001b[32mIn[51]\u001b[39m\u001b[32m, line 1\u001b[39m\n\u001b[32m----> \u001b[39m\u001b[32m1\u001b[39m \u001b[43mcollege\u001b[49m\u001b[43m.\u001b[49m\u001b[43mremove\u001b[49m\u001b[43m(\u001b[49m\u001b[33;43m\"\u001b[39;49m\u001b[33;43mbuilding\u001b[39;49m\u001b[33;43m\"\u001b[39;49m\u001b[43m)\u001b[49m\n",
      "\u001b[31mKeyError\u001b[39m: 'building'"
     ]
    }
   ],
   "source": [
    "college.remove(\"building\")"
   ]
  },
  {
   "cell_type": "code",
   "execution_count": 52,
   "id": "c06e4765",
   "metadata": {},
   "outputs": [
    {
     "name": "stdout",
     "output_type": "stream",
     "text": [
      "{'guard', 'builidng'}\n"
     ]
    }
   ],
   "source": [
    "print(college)"
   ]
  },
  {
   "cell_type": "code",
   "execution_count": 53,
   "id": "c1c6b6bd",
   "metadata": {},
   "outputs": [
    {
     "name": "stdout",
     "output_type": "stream",
     "text": [
      "('apple', 'banana', 'coconut', 'coconut')\n"
     ]
    }
   ],
   "source": [
    "fruits=(\"apple\",\"banana\",\"coconut\",\"coconut\")\n",
    "print(fruits)"
   ]
  },
  {
   "cell_type": "code",
   "execution_count": 54,
   "id": "3c2486b8",
   "metadata": {},
   "outputs": [
    {
     "name": "stdout",
     "output_type": "stream",
     "text": [
      "['__add__', '__class__', '__class_getitem__', '__contains__', '__delattr__', '__dir__', '__doc__', '__eq__', '__format__', '__ge__', '__getattribute__', '__getitem__', '__getnewargs__', '__getstate__', '__gt__', '__hash__', '__init__', '__init_subclass__', '__iter__', '__le__', '__len__', '__lt__', '__mul__', '__ne__', '__new__', '__reduce__', '__reduce_ex__', '__repr__', '__rmul__', '__setattr__', '__sizeof__', '__str__', '__subclasshook__', 'count', 'index']\n"
     ]
    }
   ],
   "source": [
    "print(dir(fruits))"
   ]
  },
  {
   "cell_type": "code",
   "execution_count": 55,
   "id": "b79fc5fe",
   "metadata": {},
   "outputs": [
    {
     "name": "stdout",
     "output_type": "stream",
     "text": [
      "apple\n",
      "2\n"
     ]
    }
   ],
   "source": [
    "len(fruits)\n",
    "print(fruits[0])\n",
    "print(fruits.count(\"coconut\"))"
   ]
  },
  {
   "cell_type": "code",
   "execution_count": 57,
   "id": "8d999f12",
   "metadata": {},
   "outputs": [
    {
     "name": "stdout",
     "output_type": "stream",
     "text": [
      "('Apple', 'Banana', 'Cherry', 'Watermelon', 'Orange')\n"
     ]
    }
   ],
   "source": [
    "newTuple=('Apple','Banana','Cherry','Watermelon')\n",
    "y=('Orange',)\n",
    "newTuple+=y\n",
    "print(newTuple)"
   ]
  },
  {
   "cell_type": "code",
   "execution_count": 67,
   "id": "d9ef2a9b",
   "metadata": {},
   "outputs": [
    {
     "name": "stdout",
     "output_type": "stream",
     "text": [
      "apple\n",
      "banana\n",
      "['cherry', 'passion']\n"
     ]
    }
   ],
   "source": [
    "fruits=('apple','banana','cherry','passion')\n",
    "(green,yellow,*red)=fruits\n",
    "print(green)\n",
    "print(yellow)\n",
    "print(red)\n",
    "(green,yellow,*red)=fruits"
   ]
  },
  {
   "cell_type": "code",
   "execution_count": 69,
   "id": "8a1cc0ca",
   "metadata": {},
   "outputs": [],
   "source": [
    "t=(1,2,(3,4),[\"a\",\"b\"])"
   ]
  },
  {
   "cell_type": "code",
   "execution_count": null,
   "id": "8e9eacb4",
   "metadata": {},
   "outputs": [
    {
     "name": "stdout",
     "output_type": "stream",
     "text": [
      "[1, 'hello', 3.14, True] (1, 'hello', 3.14, True) {'hello', 1, 3.14}\n"
     ]
    }
   ],
   "source": [
    "#list=[1,'hello',3.14,True]\n",
    "tuple=(1,'hello',3.14,True)\n",
    "set={1,'hello',3.14,True}\n",
    "print(list,tuple,set)"
   ]
  },
  {
   "cell_type": "code",
   "execution_count": 78,
   "id": "6a18fc15",
   "metadata": {},
   "outputs": [
    {
     "name": "stdout",
     "output_type": "stream",
     "text": [
      "a\n",
      "applesapples\n",
      "p\n",
      "applesapples\n",
      "p\n",
      "applesapples\n",
      "l\n",
      "applesapples\n",
      "e\n",
      "applesapples\n",
      "s\n",
      "applesapples\n"
     ]
    }
   ],
   "source": [
    "i=0;\n",
    "while i<len(fruits):\n",
    "    print(fruits[i])\n",
    "    i=i+1\n",
    "    print(fruits*2)"
   ]
  },
  {
   "cell_type": "code",
   "execution_count": 82,
   "id": "272e2b11",
   "metadata": {},
   "outputs": [
    {
     "ename": "TypeError",
     "evalue": "'list' object is not callable",
     "output_type": "error",
     "traceback": [
      "\u001b[31m---------------------------------------------------------------------------\u001b[39m",
      "\u001b[31mTypeError\u001b[39m                                 Traceback (most recent call last)",
      "\u001b[36mCell\u001b[39m\u001b[36m \u001b[39m\u001b[32mIn[82]\u001b[39m\u001b[32m, line 2\u001b[39m\n\u001b[32m      1\u001b[39m fruits=(\u001b[33m'\u001b[39m\u001b[33mapples\u001b[39m\u001b[33m'\u001b[39m)\n\u001b[32m----> \u001b[39m\u001b[32m2\u001b[39m \u001b[38;5;28;43mlist\u001b[39;49m\u001b[43m(\u001b[49m\u001b[43mfruits\u001b[49m\u001b[43m)\u001b[49m\n",
      "\u001b[31mTypeError\u001b[39m: 'list' object is not callable"
     ]
    }
   ],
   "source": [
    "fruits=('apples')\n",
    "list(fruits)"
   ]
  },
  {
   "cell_type": "code",
   "execution_count": 87,
   "id": "bc56dad4",
   "metadata": {},
   "outputs": [
    {
     "name": "stdout",
     "output_type": "stream",
     "text": [
      "20\n",
      "20\n"
     ]
    }
   ],
   "source": [
    "student={\n",
    "    1:'first',\n",
    "    'name':'Alice',\n",
    "    'age':20,\n",
    "    'courses':['Math','Science']\n",
    "}\n",
    "print(student['age'])\n",
    "print(student.get('age'))\n",
    "student=dict(name='Alice',age=20,city='London')"
   ]
  },
  {
   "cell_type": "code",
   "execution_count": 88,
   "id": "a3f6864b",
   "metadata": {},
   "outputs": [
    {
     "name": "stdout",
     "output_type": "stream",
     "text": [
      "{'name': 'Alice', 'age': 26, 'city': 'London', 'job': 'Engineer'}\n"
     ]
    }
   ],
   "source": [
    "student['job']='Engineer'\n",
    "student['age']=26\n",
    "print(student)"
   ]
  },
  {
   "cell_type": "code",
   "execution_count": 89,
   "id": "c080408e",
   "metadata": {},
   "outputs": [],
   "source": [
    "del student['age']"
   ]
  },
  {
   "cell_type": "code",
   "execution_count": 90,
   "id": "b613fb81",
   "metadata": {},
   "outputs": [
    {
     "name": "stdout",
     "output_type": "stream",
     "text": [
      "{'name': 'Alice', 'city': 'London', 'job': 'Engineer'}\n"
     ]
    }
   ],
   "source": [
    "print(student)"
   ]
  },
  {
   "cell_type": "code",
   "execution_count": 91,
   "id": "41c4340a",
   "metadata": {},
   "outputs": [
    {
     "name": "stdout",
     "output_type": "stream",
     "text": [
      "Name exists\n"
     ]
    }
   ],
   "source": [
    "if 'Alice' in student.values():\n",
    "    print('Name exists')\n",
    "else:\n",
    "    print('Name does not exist')"
   ]
  },
  {
   "cell_type": "code",
   "execution_count": 94,
   "id": "876ee798",
   "metadata": {},
   "outputs": [
    {
     "name": "stdout",
     "output_type": "stream",
     "text": [
      "name\n",
      "Alice\n",
      "London\n",
      "Engineer\n",
      "name Alice\n",
      "city London\n",
      "job Engineer\n",
      "city\n",
      "Alice\n",
      "London\n",
      "Engineer\n",
      "name Alice\n",
      "city London\n",
      "job Engineer\n",
      "job\n",
      "Alice\n",
      "London\n",
      "Engineer\n",
      "name Alice\n",
      "city London\n",
      "job Engineer\n"
     ]
    }
   ],
   "source": [
    "for key in student:\n",
    "    print(key)\n",
    "    for value in student.values():\n",
    "          print(value)\n",
    "    for key,value in student.items():\n",
    "         print(key,value)"
   ]
  },
  {
   "cell_type": "code",
   "execution_count": 98,
   "id": "9c4dd70f",
   "metadata": {},
   "outputs": [
    {
     "name": "stdout",
     "output_type": "stream",
     "text": [
      "Alice\n"
     ]
    }
   ],
   "source": [
    "#nested dictionary\n",
    "students={\n",
    "'student1':{'name':'Alice','age':20 },\n",
    "'student2':{'name':'Bob','age':22}\n",
    "}\n",
    "print(students['student1']['name'])"
   ]
  },
  {
   "cell_type": "code",
   "execution_count": 96,
   "id": "d70034f1",
   "metadata": {},
   "outputs": [
    {
     "name": "stdout",
     "output_type": "stream",
     "text": [
      "{0: 0, 1: 1, 2: 4, 3: 9, 4: 16}\n"
     ]
    }
   ],
   "source": [
    "squares={x: x*x for x in range(5)}\n",
    "print(squares)"
   ]
  },
  {
   "cell_type": "code",
   "execution_count": null,
   "id": "1a0c77c6",
   "metadata": {},
   "outputs": [],
   "source": []
  }
 ],
 "metadata": {
  "kernelspec": {
   "display_name": "Python 3",
   "language": "python",
   "name": "python3"
  },
  "language_info": {
   "codemirror_mode": {
    "name": "ipython",
    "version": 3
   },
   "file_extension": ".py",
   "mimetype": "text/x-python",
   "name": "python",
   "nbconvert_exporter": "python",
   "pygments_lexer": "ipython3",
   "version": "3.13.5"
  }
 },
 "nbformat": 4,
 "nbformat_minor": 5
}
